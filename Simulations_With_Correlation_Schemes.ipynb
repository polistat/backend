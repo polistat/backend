{
 "cells": [
  {
   "cell_type": "markdown",
   "metadata": {},
   "source": [
    "# Generating Random Correlation Matrix\n",
    "\n",
    "For now, we need to use a correlation matrix and state array of random values."
   ]
  },
  {
   "cell_type": "code",
   "execution_count": 40,
   "metadata": {},
   "outputs": [
    {
     "name": "stdout",
     "output_type": "stream",
     "text": [
      "['Alabama', 3.533752109149029, 0.13339668583156214, 9]\n",
      "['Alaska', 6.304557355896526, 0.2190120785110221, 3]\n",
      "['Arizona', -0.11286513611624616, 0.7370972789538817, 11]\n",
      "['Arkansas', 3.1564102778499397, 0.5937976317042435, 6]\n",
      "['California', 2.3207133125751356, 0.3683485261303672, 55]\n",
      "['Colorado', -1.5858839549439294, 0.014426297918416365, 9]\n",
      "['Connecticut', 0.512950983819801, 0.5985480829177326, 7]\n",
      "['Delaware', 0.15354881860760405, 0.2724742171339559, 3]\n",
      "['District of Columbia', -0.866670516479614, 0.8301089885877506, 3]\n",
      "['Florida', -7.430213185067013, 0.2907338594294194, 29]\n",
      "['Georgia', -1.8545954615135822, 0.8758768970416013, 16]\n",
      "['Hawaii', 0.8004205573892773, 0.8740807550877577, 4]\n",
      "['Idaho', -2.5420804119281195, 0.6602548335539803, 4]\n",
      "['Illinois', 0.35850162713758116, 0.04792367709694169, 20]\n",
      "['Indiana', -5.834813582138172, 0.26495472493054734, 11]\n",
      "['Iowa', 0.9595427395187066, 0.8610403082540902, 6]\n",
      "['Kansas', -3.784518551075426, 0.005105193805354836, 6]\n",
      "['Kentucky', -1.5704404431797827, 0.022912598116710137, 8]\n",
      "['Louisiana', -4.269494074165976, 0.5556565186342854, 8]\n",
      "['Maine', -3.5346788278327796, 0.04400925761588839, 4]\n",
      "['Maryland', 0.7642541703697444, 0.7377043041895976, 10]\n",
      "['Massachusetts', -1.5468366298305374, 0.0003714041628892725, 11]\n",
      "['Michigan', -5.8918930486148025, 0.9459994258442345, 16]\n",
      "['Minnesota', -3.2186480535920388, 0.08135600167274101, 10]\n",
      "['Mississippi', 3.7939150962721024, 0.9250350839370037, 6]\n",
      "['Missouri', -3.4026489067465775, 0.9868434516765515, 10]\n",
      "['Montana', -2.788776128429199, 0.999402876860864, 3]\n",
      "['Nebraska', 3.75791857504333, 0.4494096935158436, 5]\n",
      "['Nevada', 3.4903720897170603, 0.7366949110988189, 6]\n",
      "['New Hampshire', -3.468847259416706, 0.09303499522624696, 4]\n",
      "['New Jersey', 5.494702542637787, 0.47203223053035515, 14]\n",
      "['New Mexico', 2.3682497122332995, 0.3912224995936439, 5]\n",
      "['New York', 2.798696726127086, 0.7229671854304253, 29]\n",
      "['North Carolina', 3.323227749132447, 0.8565374210827433, 15]\n",
      "['North Dakota', -2.6014557940781993, 0.7093273461465208, 3]\n",
      "['Ohio', -4.061816480631839, 0.02485050991781399, 18]\n",
      "['Oklahoma', 1.0560783956053974, 0.1178039834029909, 7]\n",
      "['Oregon', 1.8264428582068493, 0.1602862239544169, 7]\n",
      "['Pennsylvania', 3.6832872478608585, 0.8758557683427659, 20]\n",
      "['Rhode Island', -4.204589025068294, 0.778201660815253, 4]\n",
      "['South Carolina', -3.798409063010406, 0.2152349746915239, 9]\n",
      "['South Dakota', 4.3537102639216, 0.11382484613671022, 3]\n",
      "['Tennessee', -0.18554817916403832, 0.36607575714114493, 11]\n",
      "['Texas', 0.11483987689397934, 0.4747290200550878, 38]\n",
      "['Utah', 0.07593746022572148, 0.4917621917781188, 6]\n",
      "['Vermont', 2.6304645107914846, 0.10556913567635158, 3]\n",
      "['Virginia', 5.337219809381818, 0.5397312132298824, 13]\n",
      "['Washington', -1.5382113096308174, 0.058742626754962037, 12]\n",
      "['West Virginia', -4.122812237373358, 0.20362626254824692, 5]\n",
      "['Wisconsin', -3.8978138487919316, 0.8603150045533868, 10]\n",
      "['Wyoming', -0.14628678800318418, 0.7811655945260043, 3]\n",
      "\n",
      "[[ 0.          0.35699922 -0.98240718 ... -0.18773446  0.93179565\n",
      "   0.07522524]\n",
      " [-0.92341927  0.         -0.06579553 ...  0.06456708  0.5305681\n",
      "   0.51168235]\n",
      " [ 0.1914176  -0.9310994   0.         ... -0.07184743 -0.93543061\n",
      "  -0.85837959]\n",
      " ...\n",
      " [-0.76166892  0.17689394  0.50751041 ...  0.          0.69501561\n",
      "   0.0324246 ]\n",
      " [-0.85633811  0.71304463 -0.83272211 ...  0.09911159  0.\n",
      "  -0.31215102]\n",
      " [ 0.58461399  0.18803975  0.86782071 ...  0.04867497 -0.93162691\n",
      "   0.        ]]\n"
     ]
    }
   ],
   "source": [
    "import numpy as np\n",
    "\n",
    "electoral_counts = [0,0]\n",
    "\n",
    "state_names = ['Alabama', 'Alaska', 'Arizona', 'Arkansas', 'California', 'Colorado', 'Connecticut', 'Delaware', 'District of Columbia', 'Florida', 'Georgia', 'Hawaii', 'Idaho', 'Illinois', 'Indiana', 'Iowa', 'Kansas', 'Kentucky', 'Louisiana', 'Maine', 'Maryland', 'Massachusetts', 'Michigan', 'Minnesota', 'Mississippi', 'Missouri', 'Montana', 'Nebraska', 'Nevada', 'New Hampshire', 'New Jersey', 'New Mexico', 'New York', 'North Carolina', 'North Dakota', 'Ohio', 'Oklahoma', 'Oregon', 'Pennsylvania', 'Rhode Island', 'South Carolina', 'South Dakota', 'Tennessee', 'Texas', 'Utah', 'Vermont', 'Virginia', 'Washington', 'West Virginia', 'Wisconsin', 'Wyoming']\n",
    "electoral_votes = [9,3,11,6,55,9,7,3, 3,29,16,4, 4, 20, 11, 6, 6, 8, 8, 4, 10, 11, 16, 10, 6, 10, 3, 5, 6, 4, 14, 5, 29, 15, 3, 18, 7,7, 20, 4, 9, 3, 11, 38, 6, 3, 13, 12, 5, 10, 3]\n",
    "\n",
    "correlation_matrix = 2*np.random.rand(51,51)-1\n",
    "\n",
    "for j in range(len(correlation_matrix)):\n",
    "    for i in range(51):\n",
    "        if j==i:\n",
    "            correlation_matrix[j,i] = 0\n",
    "state_info = []\n",
    "for n in range(51):\n",
    "    state_info.append([state_names[n], np.random.randint(-5,5)+np.random.randn(), np.random.random()**2,electoral_votes[n]])\n",
    "    print(state_info[n])\n",
    "print()\n",
    "print(correlation_matrix)"
   ]
  },
  {
   "cell_type": "markdown",
   "metadata": {},
   "source": [
    "# Seeding State Shifts"
   ]
  },
  {
   "cell_type": "code",
   "execution_count": 15,
   "metadata": {},
   "outputs": [
    {
     "name": "stdout",
     "output_type": "stream",
     "text": [
      "\n",
      "Model Predictions:\n",
      "\n",
      "Candidate 1 Win%: 31.2829\n",
      "Candidate 2 Win%: 66.5297\n"
     ]
    }
   ],
   "source": [
    "num_simulations = 1000000\n",
    "outcome_counts = [0,0,0]\n",
    "for sim in range(num_simulations):\n",
    "    seed = np.random.randint(51)\n",
    "    seeded_state = state_info[seed][0]\n",
    "    seeded_value = np.random.normal(state_info[seed][1],(state_info[seed][2])**0.5,1)-state_info[seed][1]\n",
    "\n",
    "    state_outcomes = [0,0,0,0,0,0,0,0,0,0,0,0,0,0,0,0,0,0,0,0,0,0,0,0,0,0,0,0,0,0,0,0,0,0,0,0,0,0,0,0,0,0,0,0,0,0,0,0,0,0,0]\n",
    "    electoral_counts = [0,0]\n",
    "    state_outcomes[seed] = seeded_value\n",
    "\n",
    "    for i in range(len(correlation_matrix[seed])):\n",
    "        if i==seed:\n",
    "            pass\n",
    "        else:\n",
    "            state_outcomes[i] = np.random.normal(state_info[i][1]+correlation_matrix[seed][i]*seeded_value,(state_info[seed][2])**0.5,1)\n",
    "\n",
    "    for i in range(len(state_outcomes)):\n",
    "        if state_outcomes[i]>0:\n",
    "            electoral_counts[0] += state_info[i][3]\n",
    "        elif state_outcomes[i]<0:\n",
    "            electoral_counts[1] += state_info[i][3]\n",
    "    if electoral_counts[0]>=270:\n",
    "        outcome_counts[0]+=1\n",
    "    elif electoral_counts[1]>=270:\n",
    "        outcome_counts[1]+=1\n",
    "    else:\n",
    "        outcome_counts[2]+=1\n",
    "\n",
    "print(\"\\nModel Predictions:\\n\")\n",
    "\n",
    "candidate_1_win_percentage = outcome_counts[0]/num_simulations * 100\n",
    "candidate_2_win_percentage = outcome_counts[1]/num_simulations * 100\n",
    "\n",
    "print(\"Candidate 1 Win%: \" + str(candidate_1_win_percentage))   \n",
    "print(\"Candidate 2 Win%: \" + str(candidate_2_win_percentage))\n",
    "        "
   ]
  },
  {
   "cell_type": "markdown",
   "metadata": {},
   "source": [
    "# Adding After the Fact"
   ]
  },
  {
   "cell_type": "code",
   "execution_count": 46,
   "metadata": {},
   "outputs": [
    {
     "name": "stdout",
     "output_type": "stream",
     "text": [
      "\n",
      "Model Predictions:\n",
      "\n",
      "Candidate 1 Win%: 67.3814\n",
      "Candidate 2 Win%: 31.2613\n"
     ]
    }
   ],
   "source": [
    "num_simulations = 1000000\n",
    "outcome_counts = [0,0,0]\n",
    "for sim in range(num_simulations):\n",
    "    distance = np.array([0,0,0,0,0,0,0,0,0,0,0,0,0,0,0,0,0,0,0,0,0,0,0,0,0,0,0,0,0,0,0,0,0,0,0,0,0,0,0,0,0,0,0,0,0,0,0,0,0,0,0])\n",
    "    state_outcomes = [0,0,0,0,0,0,0,0,0,0,0,0,0,0,0,0,0,0,0,0,0,0,0,0,0,0,0,0,0,0,0,0,0,0,0,0,0,0,0,0,0,0,0,0,0,0,0,0,0,0,0]\n",
    "    electoral_outcome = [0,0]\n",
    "    for i in range(51):\n",
    "        state_outcomes[i] = np.random.normal(state_info[i][1], (state_info[i][2])**0.5,1)\n",
    "        distance[i] = state_outcomes[i] - state_info[i][1]\n",
    "\n",
    "    shifts = correlation_matrix.dot(distance)\n",
    "\n",
    "    for i in range(51):\n",
    "        \n",
    "        if state_outcomes[i]+shifts[i]/np.sum(correlation_matrix[i])>0:\n",
    "            electoral_outcome[0]+=state_info[i][3]\n",
    "        else:\n",
    "            electoral_outcome[1]+=state_info[i][3]\n",
    "    if electoral_outcome[0]>=270:\n",
    "        outcome_counts[0]+=1\n",
    "    elif electoral_outcome[1]>=270:\n",
    "        outcome_counts[1]+=1\n",
    "    else:\n",
    "        outcome_counts[2]+=1\n",
    "\n",
    "print(\"\\nModel Predictions:\\n\")\n",
    "\n",
    "candidate_1_win_percentage = outcome_counts[0]/num_simulations * 100\n",
    "candidate_2_win_percentage = outcome_counts[1]/num_simulations * 100\n",
    "\n",
    "print(\"Candidate 1 Win%: \" + str(candidate_1_win_percentage))   \n",
    "print(\"Candidate 2 Win%: \" + str(candidate_2_win_percentage))\n"
   ]
  },
  {
   "cell_type": "code",
   "execution_count": null,
   "metadata": {},
   "outputs": [],
   "source": []
  },
  {
   "cell_type": "code",
   "execution_count": null,
   "metadata": {},
   "outputs": [],
   "source": []
  }
 ],
 "metadata": {
  "kernelspec": {
   "display_name": "Python 3",
   "language": "python",
   "name": "python3"
  },
  "language_info": {
   "codemirror_mode": {
    "name": "ipython",
    "version": 3
   },
   "file_extension": ".py",
   "mimetype": "text/x-python",
   "name": "python",
   "nbconvert_exporter": "python",
   "pygments_lexer": "ipython3",
   "version": "3.7.6"
  }
 },
 "nbformat": 4,
 "nbformat_minor": 4
}
