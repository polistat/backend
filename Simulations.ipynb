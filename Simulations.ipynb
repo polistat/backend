{
 "cells": [
  {
   "cell_type": "markdown",
   "metadata": {},
   "source": [
    "# Simulation\n",
    "\n",
    "This code is one of the final steps for our model. After we finish averaging polls and conducting priors to set a baseline vote for each state, we take those datapoints and run it through this code. For each simulation, we select a random number, which is equivalent to the national voter turnout. then for each state, we select a random number from a normal distribution determined by the state's lean and its variance minus the turnout variance. We add the random turnout number to the state number to determine to whom the state's electoral votes go to.\n",
    "\n",
    "## Variables:\n",
    "- **num_simulations:** The number of simulations to run\n",
    "- **electoral counts:** A 1x2 matrix, whose first cell contains the electoral votes going to candidate 1, and whose second cell contains the electoral votes going to candidate 2.\n",
    "- **outcome counts:** A 1x3 matrix, whose first cell counts the number of times candidate 1 wins, whose second cell counts the number of times candidate 2 wins, and whose third cell contains the number of times neither candidate wins (probably unnecessary for our model)\n",
    "- **turnout_mean:** The average national voter turnout. The purpose of this is to provide some level of variance that is the same for all states\n",
    "    -We might need to do some transformations on this number to adhere to how we are representing the states's leans\n",
    "- **turnout_variance:** The variance for national voter turnout\n",
    "- **states:** A 51x4 matrix, whose rows represent individual states. The first column contains the state's name, the second column contains the state's lean, the third column contains the state's variance, and the fourth column contains the state's electoral votes\n",
    "- **turnout_shift:** A random number calculated to provide some level of variance for all states during individual simulations\n",
    "- **state_outcome:** The shifted outcome of the election in a state selected from a normal distribution\n",
    "- **candidate_1_win_percentage:** the number of wins counted for candidate 1 divided by the number of simulations, multiplied by 100\n",
    "- **candidate_2_win_percentage:** the number of wins counted for candidate 2 divided by the number of simulations, multiplied by 100\n",
    "\n",
    "\n",
    "\n"
   ]
  },
  {
   "cell_type": "code",
   "execution_count": null,
   "metadata": {},
   "outputs": [],
   "source": [
    "import numpy as np\n",
    "\n",
    "num_simulations = 10000000\n",
    "electoral_counts = [0,0]\n",
    "outcome_counts = [0,0,0]\n",
    "turnout_mean = 0\n",
    "turnout_variance = 0\n",
    "states = []\n",
    "\n",
    "for sim in range(num_simulations):\n",
    "    \n",
    "    turnout_shift = np.random.normal(turnout_mean,turnout_variance**0.5, 1)\n",
    "    \n",
    "    for state in states:\n",
    "        \n",
    "        state_outcome= np.random.normal(state[1],(state[2]-turnout_variance)**0.5,1) + turnout_shift\n",
    "        \n",
    "        if state_outcome > 0:\n",
    "            electoral_counts[0]+=state[3]\n",
    "        else:\n",
    "            electoral_counts[1]+=state[3]\n",
    "   \n",
    "    if electoral_counts[0]>=270:\n",
    "        outcome_counts[0]+=1\n",
    "    else if electoral_counts[1]>=270:\n",
    "        outcome_counts[1]+=1\n",
    "    else:\n",
    "        outcome_counts[2]+=1\n",
    "\n",
    "candidate_1_win_percentage = outcome_counts[0]/num_simulations * 100\n",
    "candidate_2_win_percentage = outcome_counts[1]/num_simulations * 100\n",
    "\n",
    "print(\"Candidate 1 Win%: \" + candidate_1_win_percentage)     \n",
    "print(\"Candidate 2 Win%: \" + candidate_2_win_percentage)\n",
    "        "
   ]
  }
 ],
 "metadata": {
  "kernelspec": {
   "display_name": "Python 3",
   "language": "python",
   "name": "python3"
  },
  "language_info": {
   "codemirror_mode": {
    "name": "ipython",
    "version": 3
   },
   "file_extension": ".py",
   "mimetype": "text/x-python",
   "name": "python",
   "nbconvert_exporter": "python",
   "pygments_lexer": "ipython3",
   "version": "3.7.6"
  }
 },
 "nbformat": 4,
 "nbformat_minor": 4
}
